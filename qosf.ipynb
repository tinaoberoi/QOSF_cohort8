{
 "cells": [
  {
   "cell_type": "code",
   "execution_count": 1,
   "metadata": {},
   "outputs": [
    {
     "name": "stdout",
     "output_type": "stream",
     "text": [
      "Requirement already satisfied: qiskit in /opt/homebrew/lib/python3.11/site-packages (0.44.1)\n",
      "Requirement already satisfied: qiskit-terra==0.25.1 in /opt/homebrew/lib/python3.11/site-packages (from qiskit) (0.25.1)\n",
      "Requirement already satisfied: rustworkx>=0.13.0 in /opt/homebrew/lib/python3.11/site-packages (from qiskit-terra==0.25.1->qiskit) (0.13.1)\n",
      "Requirement already satisfied: numpy>=1.17 in /opt/homebrew/lib/python3.11/site-packages (from qiskit-terra==0.25.1->qiskit) (1.24.4)\n",
      "Requirement already satisfied: ply>=3.10 in /opt/homebrew/lib/python3.11/site-packages (from qiskit-terra==0.25.1->qiskit) (3.11)\n",
      "Requirement already satisfied: psutil>=5 in /Users/toberoi/Library/Python/3.11/lib/python/site-packages (from qiskit-terra==0.25.1->qiskit) (5.9.5)\n",
      "Requirement already satisfied: scipy>=1.5 in /opt/homebrew/lib/python3.11/site-packages (from qiskit-terra==0.25.1->qiskit) (1.11.2)\n",
      "Requirement already satisfied: sympy>=1.3 in /opt/homebrew/lib/python3.11/site-packages (from qiskit-terra==0.25.1->qiskit) (1.12)\n",
      "Requirement already satisfied: dill>=0.3 in /opt/homebrew/lib/python3.11/site-packages (from qiskit-terra==0.25.1->qiskit) (0.3.7)\n",
      "Requirement already satisfied: python-dateutil>=2.8.0 in /Users/toberoi/Library/Python/3.11/lib/python/site-packages (from qiskit-terra==0.25.1->qiskit) (2.8.2)\n",
      "Requirement already satisfied: stevedore>=3.0.0 in /opt/homebrew/lib/python3.11/site-packages (from qiskit-terra==0.25.1->qiskit) (5.1.0)\n",
      "Requirement already satisfied: symengine<0.10,>=0.9 in /opt/homebrew/lib/python3.11/site-packages (from qiskit-terra==0.25.1->qiskit) (0.9.2)\n",
      "Requirement already satisfied: six>=1.5 in /Users/toberoi/Library/Python/3.11/lib/python/site-packages (from python-dateutil>=2.8.0->qiskit-terra==0.25.1->qiskit) (1.16.0)\n",
      "Requirement already satisfied: pbr!=2.1.0,>=2.0.0 in /opt/homebrew/lib/python3.11/site-packages (from stevedore>=3.0.0->qiskit-terra==0.25.1->qiskit) (5.11.1)\n",
      "Requirement already satisfied: mpmath>=0.19 in /opt/homebrew/lib/python3.11/site-packages (from sympy>=1.3->qiskit-terra==0.25.1->qiskit) (1.3.0)\n",
      "Note: you may need to restart the kernel to use updated packages.\n",
      "Requirement already satisfied: qiskit-aer in /opt/homebrew/lib/python3.11/site-packages (0.12.2)\n",
      "Requirement already satisfied: qiskit-terra>=0.21.0 in /opt/homebrew/lib/python3.11/site-packages (from qiskit-aer) (0.25.1)\n",
      "Requirement already satisfied: numpy>=1.16.3 in /opt/homebrew/lib/python3.11/site-packages (from qiskit-aer) (1.24.4)\n",
      "Requirement already satisfied: scipy>=1.0 in /opt/homebrew/lib/python3.11/site-packages (from qiskit-aer) (1.11.2)\n",
      "Requirement already satisfied: rustworkx>=0.13.0 in /opt/homebrew/lib/python3.11/site-packages (from qiskit-terra>=0.21.0->qiskit-aer) (0.13.1)\n",
      "Requirement already satisfied: ply>=3.10 in /opt/homebrew/lib/python3.11/site-packages (from qiskit-terra>=0.21.0->qiskit-aer) (3.11)\n",
      "Requirement already satisfied: psutil>=5 in /Users/toberoi/Library/Python/3.11/lib/python/site-packages (from qiskit-terra>=0.21.0->qiskit-aer) (5.9.5)\n",
      "Requirement already satisfied: sympy>=1.3 in /opt/homebrew/lib/python3.11/site-packages (from qiskit-terra>=0.21.0->qiskit-aer) (1.12)\n",
      "Requirement already satisfied: dill>=0.3 in /opt/homebrew/lib/python3.11/site-packages (from qiskit-terra>=0.21.0->qiskit-aer) (0.3.7)\n",
      "Requirement already satisfied: python-dateutil>=2.8.0 in /Users/toberoi/Library/Python/3.11/lib/python/site-packages (from qiskit-terra>=0.21.0->qiskit-aer) (2.8.2)\n",
      "Requirement already satisfied: stevedore>=3.0.0 in /opt/homebrew/lib/python3.11/site-packages (from qiskit-terra>=0.21.0->qiskit-aer) (5.1.0)\n",
      "Requirement already satisfied: symengine<0.10,>=0.9 in /opt/homebrew/lib/python3.11/site-packages (from qiskit-terra>=0.21.0->qiskit-aer) (0.9.2)\n",
      "Requirement already satisfied: six>=1.5 in /Users/toberoi/Library/Python/3.11/lib/python/site-packages (from python-dateutil>=2.8.0->qiskit-terra>=0.21.0->qiskit-aer) (1.16.0)\n",
      "Requirement already satisfied: pbr!=2.1.0,>=2.0.0 in /opt/homebrew/lib/python3.11/site-packages (from stevedore>=3.0.0->qiskit-terra>=0.21.0->qiskit-aer) (5.11.1)\n",
      "Requirement already satisfied: mpmath>=0.19 in /opt/homebrew/lib/python3.11/site-packages (from sympy>=1.3->qiskit-terra>=0.21.0->qiskit-aer) (1.3.0)\n",
      "Note: you may need to restart the kernel to use updated packages.\n"
     ]
    }
   ],
   "source": [
    "%pip install qiskit\n",
    "%pip install qiskit-aer"
   ]
  },
  {
   "cell_type": "code",
   "execution_count": 2,
   "metadata": {},
   "outputs": [],
   "source": [
    "from math import pi\n",
    "from qiskit import QuantumCircuit, ClassicalRegister, QuantumRegister\n",
    "from qiskit import execute, Aer\n"
   ]
  },
  {
   "cell_type": "code",
   "execution_count": 3,
   "metadata": {},
   "outputs": [],
   "source": [
    "# Fourier transform \n",
    "def qft(circ, q, n):\n",
    "    for i in range(n,0,-1):\n",
    "        circ.h(q[i-1])\n",
    "\n",
    "        for j in range(i-1,0,-1):\n",
    "            circ.cp(2*pi/2**(i-j+1), q[j-1], q[i-1])\n",
    "\n",
    "# Inverse Fourier transform \n",
    "def iqft(circ, q, n):\n",
    "    for i in range(1,n+1):\n",
    "        for j in range(1,i):\n",
    "            circ.cp(-2*pi/2**(i-j+1), q[j-1], q[i-1])\n",
    "\n",
    "        circ.h(q[i-1])\n",
    "        \n",
    "def add(circ, a, b, n):\n",
    "    n += 1\n",
    "\n",
    "    qft(circ, b, n)\n",
    "\n",
    "    for i in range(n,0,-1):\n",
    "        for j in range(i,0,-1):\n",
    "            if len(a) - 1 >= j - 1:\n",
    "                circ.cp(2*pi/2**(i-j+1), a[j-1], b[i-1])\n",
    "\n",
    "    iqft(circ, b, n)"
   ]
  },
  {
   "cell_type": "code",
   "execution_count": 4,
   "metadata": {},
   "outputs": [],
   "source": [
    "def qadd_num(first, second, N):\n",
    "    \n",
    "    a = QuantumRegister(N)\n",
    "    b = QuantumRegister(N+1)\n",
    "\n",
    "    ca = ClassicalRegister(N)\n",
    "    cb = ClassicalRegister(N+1)\n",
    "\n",
    "    qc = QuantumCircuit(a, b, ca, cb)\n",
    "\n",
    "    for i in range(0, N+1):\n",
    "        if first[N-i] == \"1\":\n",
    "            qc.x(a[i])\n",
    "\n",
    "    for i in range(0, N+1):\n",
    "        if second[N-i] == \"1\":\n",
    "            qc.x(b[i])\n",
    "    \n",
    "    add(qc, a, b, N)\n",
    "\n",
    "    qc.measure(a, ca)\n",
    "    qc.measure(b, cb)\n",
    "\n",
    "    qc.draw(filename='./circuit_img.tex')\n",
    "\n",
    "    backend_sim = Aer.get_backend('qasm_simulator')\n",
    "    job_sim = execute(qc, backend_sim)\n",
    "    result_sim = job_sim.result()\n",
    "\n",
    "    x = result_sim.get_counts(qc)\n",
    "\n",
    "    return list(x.keys())[0].split(\" \")[0]"
   ]
  },
  {
   "cell_type": "code",
   "execution_count": 9,
   "metadata": {},
   "outputs": [],
   "source": [
    "def find_pair(target, arr):\n",
    "    n = len(arr)\n",
    "    for i in range(n):\n",
    "        for j in range(i+1, n):\n",
    "            first = f'{arr[i]:07b}'\n",
    "            second = f'{arr[j]:07b}'\n",
    "            qsum = qadd_num(first, second, 6)\n",
    "\n",
    "            if int(qsum, 2) == target:\n",
    "                return arr[i], arr[j]\n",
    "    return -1"
   ]
  },
  {
   "cell_type": "code",
   "execution_count": 11,
   "metadata": {},
   "outputs": [
    {
     "name": "stdout",
     "output_type": "stream",
     "text": [
      "\n",
      " Target Sum 24 can be achieved by sum of : (11, 13)\n"
     ]
    }
   ],
   "source": [
    "target = 24\n",
    "arr = [1,3,5,7,11,13,15]\n",
    "pair = find_pair (target, arr)\n",
    "print(f\"\\n Target Sum {target} can be achieved by sum of : {pair}\")"
   ]
  },
  {
   "cell_type": "code",
   "execution_count": null,
   "metadata": {},
   "outputs": [],
   "source": []
  }
 ],
 "metadata": {
  "kernelspec": {
   "display_name": "Python 3",
   "language": "python",
   "name": "python3"
  },
  "language_info": {
   "codemirror_mode": {
    "name": "ipython",
    "version": 3
   },
   "file_extension": ".py",
   "mimetype": "text/x-python",
   "name": "python",
   "nbconvert_exporter": "python",
   "pygments_lexer": "ipython3",
   "version": "3.11.5"
  },
  "orig_nbformat": 4
 },
 "nbformat": 4,
 "nbformat_minor": 2
}
